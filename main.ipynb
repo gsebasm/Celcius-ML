{
  "nbformat": 4,
  "nbformat_minor": 0,
  "metadata": {
    "colab": {
      "provenance": [],
      "authorship_tag": "ABX9TyOHkbf+0KA4L9yzduvezVqx",
      "include_colab_link": true
    },
    "kernelspec": {
      "name": "python3",
      "display_name": "Python 3"
    },
    "language_info": {
      "name": "python"
    }
  },
  "cells": [
    {
      "cell_type": "markdown",
      "metadata": {
        "id": "view-in-github",
        "colab_type": "text"
      },
      "source": [
        "<a href=\"https://colab.research.google.com/github/gsebasm/Celcius-ML/blob/main/main.ipynb\" target=\"_parent\"><img src=\"https://colab.research.google.com/assets/colab-badge.svg\" alt=\"Open In Colab\"/></a>"
      ]
    },
    {
      "cell_type": "code",
      "execution_count": null,
      "metadata": {
        "id": "AhgBidNAQwNQ"
      },
      "outputs": [],
      "source": [
        "import tensorflow as tf\n",
        "import numpy as np"
      ]
    },
    {
      "cell_type": "code",
      "source": [
        "celsius = np.array([], dtype=float)\n",
        "fahrenhait = np.array([], dtype=float)"
      ],
      "metadata": {
        "id": "rWloA3drQ8_E"
      },
      "execution_count": null,
      "outputs": []
    },
    {
      "cell_type": "code",
      "source": [
        "capa = tf.keras.layers.Dense(units= 2 , input_shape=[1])\n",
        "capa1 = tf.keras.layers.Dense(units= 2 )\n",
        "salida = tf.keras.layers.Dense(units= 1 )\n",
        "modelo = tf.keras.Sequential([capa,capa1,salida])"
      ],
      "metadata": {
        "id": "wd8m6KwQRm7B"
      },
      "execution_count": null,
      "outputs": []
    },
    {
      "cell_type": "code",
      "source": [
        "modelo.compile(\n",
        "    optimizer=tf.keras.optimizers.Adam(0.1),\n",
        "    loss='mean_squared_error'\n",
        ")"
      ],
      "metadata": {
        "id": "ew0A2bemSanc"
      },
      "execution_count": null,
      "outputs": []
    },
    {
      "cell_type": "code",
      "source": [
        "print(\"entrenar\")\n",
        "historial = modelo.fit(celsius, fahrenhait, epochs=1000, verbose=False)\n",
        "print(\"modelo entrenado\")"
      ],
      "metadata": {
        "colab": {
          "base_uri": "https://localhost:8080/"
        },
        "id": "aq6MqwnOS0Ne",
        "outputId": "2dd3878d-da9d-4db4-badc-5ada3bbb487e"
      },
      "execution_count": null,
      "outputs": [
        {
          "output_type": "stream",
          "name": "stdout",
          "text": [
            "entrenar\n",
            "modelo entrenado\n"
          ]
        }
      ]
    },
    {
      "cell_type": "code",
      "source": [
        "import matplotlib.pyplot as plt\n",
        "plt.xlabel(\"# Epoca \")\n",
        "plt.ylabel(\"Magnitud de Perdida\")\n",
        "plt.plot(historial.history[\"loss\"])"
      ],
      "metadata": {
        "colab": {
          "base_uri": "https://localhost:8080/",
          "height": 482
        },
        "id": "UJIhH3ujTTpn",
        "outputId": "342416cf-cac8-4dea-f14c-d48378c8cb57"
      },
      "execution_count": null,
      "outputs": [
        {
          "output_type": "execute_result",
          "data": {
            "text/plain": [
              "[<matplotlib.lines.Line2D at 0x7f1c1638c0a0>]"
            ]
          },
          "metadata": {},
          "execution_count": 213
        },
        {
          "output_type": "display_data",
          "data": {
            "text/plain": [
              "<Figure size 640x480 with 1 Axes>"
            ],
            "image/png": "[encoded data removed]"
          },
          "metadata": {}
        }
      ]
    },
    {
      "cell_type": "code",
      "source": [
        "print(\"prediccion\")\n",
        "resultado = modelo.predict([5])\n",
        "print(\"El resultado es: \" + str(resultado)+\" fahrenheit!\")"
      ],
      "metadata": {
        "colab": {
          "base_uri": "https://localhost:8080/"
        },
        "id": "JM51hoVEUslE",
        "outputId": "2402c049-0fea-46f2-b4e5-56293c1ff58e"
      },
      "execution_count": null,
      "outputs": [
        {
          "output_type": "stream",
          "name": "stdout",
          "text": [
            "prediccion\n",
            "1/1 [==============================] - 0s 32ms/step\n",
            "El resultado es: [[-194.32927]] fahrenheit!\n"
          ]
        }
      ]
    },
    {
      "cell_type": "code",
      "source": [
        "print(capa.get_weights())"
      ],
      "metadata": {
        "colab": {
          "base_uri": "https://localhost:8080/"
        },
        "id": "Z2xn1ouiVjso",
        "outputId": "5630c3e7-254c-406b-bdbb-5488ce1989a2"
      },
      "execution_count": null,
      "outputs": [
        {
          "output_type": "stream",
          "name": "stdout",
          "text": [
            "[array([[2.5023994, 1.8156103]], dtype=float32), array([-15.780926, -17.20542 ], dtype=float32)]\n"
          ]
        }
      ]
    }
  ]
}